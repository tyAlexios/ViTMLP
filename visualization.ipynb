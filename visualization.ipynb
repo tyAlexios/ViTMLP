{
 "cells": [
  {
   "cell_type": "code",
   "execution_count": 152,
   "id": "27fb8ea6",
   "metadata": {},
   "outputs": [],
   "source": [
    "import torch\n",
    "import numpy as np\n",
    "from sklearn.manifold import TSNE\n",
    "import matplotlib.pyplot as plt\n",
    "from mpl_toolkits.mplot3d import Axes3D"
   ]
  },
  {
   "cell_type": "code",
   "execution_count": 153,
   "id": "fd394778",
   "metadata": {},
   "outputs": [],
   "source": [
    "\"\"\"\n",
    "data: Tensor | N x feat\n",
    "feat == 1 x M\n",
    "\"\"\"\n",
    "\n",
    "def get_param(data, num_pos):\n",
    "    \n",
    "    num_samples = data.shape[0]\n",
    "    size_feat = data.shape[1]\n",
    "    batch_size = num_samples/num_pos\n",
    "    \n",
    "    features = np.array(data.cpu().detach())\n",
    "    labels = torch.ones(num_pos)\n",
    "    for i in range(2, batch_size+1):\n",
    "        labels = torch.cat((labels, torch.ones(num_pos)*i), dim=0)\n",
    "    \n",
    "    labels = np.array(labels).astype(int)\n",
    "    \n",
    "    return features, labels, num_samples, size_feat"
   ]
  },
  {
   "cell_type": "code",
   "execution_count": 154,
   "id": "1972ba2e",
   "metadata": {},
   "outputs": [],
   "source": [
    "def plot_embedding_2dim(inputs, labels ,title):\n",
    "    x_min, x_max = np.min(inputs, 0), np.max(inputs, 0)\n",
    "    \n",
    "    inputs = (inputs-x_min)/(x_max-x_min) #normalization\n",
    "    \n",
    "    fig = plt.figure()\n",
    "    ax = plt.subplot(111)\n",
    "    \n",
    "    for i in range(inputs.shape[0]):\n",
    "        plt.text(inputs[i][0], \n",
    "                 inputs[i][1],\n",
    "                 str(labels[i]),\n",
    "                 color = plt.cm.Set1(labels[i]/10),\n",
    "                 fontdict={'weight': 'bold', 'size': 7}\n",
    "                )\n",
    "    \n",
    "    plt.xticks()\n",
    "    plt.yticks()\n",
    "    plt.title(title, fontsize=14)\n",
    "    \n",
    "    return fig"
   ]
  },
  {
   "cell_type": "code",
   "execution_count": 155,
   "id": "b733ed5e",
   "metadata": {},
   "outputs": [],
   "source": [
    "def show2dim(show_data, num_pos):\n",
    "    \n",
    "    features, labels, num_samples, size_feat = get_param(show_data, num_pos)\n",
    "    data_2dim = TSNE(n_components=2, init='pca', random_state=0).fit_transform(features)\n",
    "    \n",
    "    fig_2dim = plot_embedding_2dim(data_2dim, labels, 't-SNE Embedding')\n",
    "    \n",
    "    plt.show()"
   ]
  },
  {
   "cell_type": "code",
   "execution_count": 156,
   "id": "885fe78d",
   "metadata": {},
   "outputs": [],
   "source": [
    "def show3dim(show_data, num_pos):\n",
    "    \n",
    "    features, labels, num_samples, size_feat = get_param(show_data, num_pos)\n",
    "    data_3dim = TSNE(n_components=3).fit_transform(features)\n",
    "    \n",
    "    x_min, x_max = np.min(data_3dim, 0), np.max(data_3dim, 0)\n",
    "    data_3dim = data_3dim/(x_max-x_min)\n",
    "    \n",
    "    fig = plt.figure()\n",
    "    ax = Axes3D(fig, auto_add_to_figure=False)\n",
    "    fig.add_axes(ax)\n",
    "    \n",
    "    for i in range(data_3dim.shape[0]):\n",
    "        ax.scatter(data_3dim[i, 0],\n",
    "                   data_3dim[i, 1],\n",
    "                   data_3dim[i, 2],\n",
    "                   c=plt.cm.Set1(labels[i]/10)\n",
    "                   )\n",
    "    \n",
    "    plt.axis('off')\n",
    "    plt.show()"
   ]
  },
  {
   "cell_type": "code",
   "execution_count": null,
   "id": "9bf7026d",
   "metadata": {},
   "outputs": [],
   "source": []
  },
  {
   "cell_type": "code",
   "execution_count": null,
   "id": "43e91f67",
   "metadata": {},
   "outputs": [],
   "source": []
  },
  {
   "cell_type": "code",
   "execution_count": null,
   "id": "96da9a06",
   "metadata": {},
   "outputs": [],
   "source": []
  },
  {
   "cell_type": "code",
   "execution_count": null,
   "id": "4a704c65",
   "metadata": {},
   "outputs": [],
   "source": []
  },
  {
   "cell_type": "code",
   "execution_count": null,
   "id": "5aa7cd84",
   "metadata": {},
   "outputs": [],
   "source": []
  }
 ],
 "metadata": {
  "kernelspec": {
   "display_name": "tianyi1.13",
   "language": "python",
   "name": "tianyi1.13"
  },
  "language_info": {
   "codemirror_mode": {
    "name": "ipython",
    "version": 3
   },
   "file_extension": ".py",
   "mimetype": "text/x-python",
   "name": "python",
   "nbconvert_exporter": "python",
   "pygments_lexer": "ipython3",
   "version": "3.7.16"
  }
 },
 "nbformat": 4,
 "nbformat_minor": 5
}
